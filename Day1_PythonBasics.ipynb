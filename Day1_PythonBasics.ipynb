{
  "nbformat": 4,
  "nbformat_minor": 0,
  "metadata": {
    "colab": {
      "provenance": [],
      "authorship_tag": "ABX9TyP6xQHg+ta8AENyEbG0aTMr",
      "include_colab_link": true
    },
    "kernelspec": {
      "name": "python3",
      "display_name": "Python 3"
    },
    "language_info": {
      "name": "python"
    }
  },
  "cells": [
    {
      "cell_type": "markdown",
      "metadata": {
        "id": "view-in-github",
        "colab_type": "text"
      },
      "source": [
        "<a href=\"https://colab.research.google.com/github/MuraliGoud29/AI-Powered-Cybersecurity-Portfolio/blob/main/Day1_PythonBasics.ipynb\" target=\"_parent\"><img src=\"https://colab.research.google.com/assets/colab-badge.svg\" alt=\"Open In Colab\"/></a>"
      ]
    },
    {
      "cell_type": "code",
      "execution_count": 1,
      "metadata": {
        "colab": {
          "base_uri": "https://localhost:8080/"
        },
        "id": "lMZfND0IJUdF",
        "outputId": "3554ced1-2619-406f-b3c3-97100eee5418"
      },
      "outputs": [
        {
          "output_type": "stream",
          "name": "stdout",
          "text": [
            "Hello, world!\n"
          ]
        }
      ],
      "source": [
        "# This is a basic Python program that prints \"Hello, world!\" to the console.\n",
        "\n",
        "# Print the string \"Hello, world!\"\n",
        "print(\"Hello, world!\")\n",
        "\n",
        "# This program can be easily modified to print other messages or perform different tasks.\n",
        "# For example, you could change the message inside the print function:\n",
        "# print(\"This is a different message.\")"
      ]
    },
    {
      "cell_type": "markdown",
      "metadata": {
        "id": "86f8945b"
      },
      "source": [
        "Let's start with **variables**. Think of a variable as a container that holds a piece of information. You give the container a name, and then you can use that name to access or change the information inside."
      ]
    },
    {
      "cell_type": "code",
      "metadata": {
        "id": "2da6474b"
      },
      "source": [
        "# Example 1: Using a variable\n",
        "my_number = 10  # Here, we create a variable named 'my_number' and put the value 10 inside it.\n",
        "print(my_number) # This line prints the value stored in the 'my_number' variable, which is 10."
      ],
      "execution_count": null,
      "outputs": []
    },
    {
      "cell_type": "markdown",
      "metadata": {
        "id": "d4851c9e"
      },
      "source": [
        "Now, let's look at **lists**. A list is like a collection of these containers (variables), stored in a specific order. You can put different types of information in a list."
      ]
    },
    {
      "cell_type": "code",
      "metadata": {
        "colab": {
          "base_uri": "https://localhost:8080/"
        },
        "id": "f9aa9abb",
        "outputId": "c80c31d8-6106-43f7-dab8-3d621920d73a"
      },
      "source": [
        "# Example 2: Creating and accessing a list\n",
        "my_list = [1, 2, 3, 4, 5] # We create a list named 'my_list' containing the numbers 1 through 5.\n",
        "print(my_list[0]) # This prints the item at the first position (index 0) in 'my_list', which is 1.\n",
        "print(my_list[3]) # This prints the item at the fourth position (index 3) in 'my_list', which is 4."
      ],
      "execution_count": 2,
      "outputs": [
        {
          "output_type": "stream",
          "name": "stdout",
          "text": [
            "1\n",
            "4\n"
          ]
        }
      ]
    },
    {
      "cell_type": "markdown",
      "metadata": {
        "id": "71bc71cf"
      },
      "source": [
        "**Loops** are used to repeat a block of code multiple times. A `for` loop is commonly used to go through each item in a list or a sequence."
      ]
    },
    {
      "cell_type": "code",
      "metadata": {
        "colab": {
          "base_uri": "https://localhost:8080/"
        },
        "id": "d419ca21",
        "outputId": "4ba1fcc5-b01e-42da-c9ae-b20a1cea02cf"
      },
      "source": [
        "# Example 3: Using a for loop with a list\n",
        "fruits = [\"apple\", \"banana\", \"cherry\"] # We create a list of strings called 'fruits'.\n",
        "for fruit in fruits: # This line starts a loop that will go through each item in the 'fruits' list. In each turn, the current item is temporarily stored in the 'fruit' variable.\n",
        "  print(fruit) # Inside the loop, this line prints the value of the current 'fruit' variable. So, it will print \"apple\", then \"banana\", then \"cherry\"."
      ],
      "execution_count": 3,
      "outputs": [
        {
          "output_type": "stream",
          "name": "stdout",
          "text": [
            "apple\n",
            "banana\n",
            "cherry\n"
          ]
        }
      ]
    },
    {
      "cell_type": "markdown",
      "metadata": {
        "id": "52e82d63"
      },
      "source": [
        "You can also use loops with the `range()` function to repeat an action a specific number of times."
      ]
    },
    {
      "cell_type": "code",
      "metadata": {
        "colab": {
          "base_uri": "https://localhost:8080/"
        },
        "id": "f69b91bb",
        "outputId": "f04f3aa3-e3ff-446a-b843-cc7defb400f4"
      },
      "source": [
        "# Example 4: Using a for loop with range()\n",
        "for i in range(5): # This loop will run 5 times. The variable 'i' will take values from 0 up to (but not including) 5 (0, 1, 2, 3, 4).\n",
        "  print(\"Hello!\") # This line prints \"Hello!\" in each turn of the loop."
      ],
      "execution_count": 4,
      "outputs": [
        {
          "output_type": "stream",
          "name": "stdout",
          "text": [
            "Hello!\n",
            "Hello!\n",
            "Hello!\n",
            "Hello!\n",
            "Hello!\n"
          ]
        }
      ]
    },
    {
      "cell_type": "markdown",
      "metadata": {
        "id": "e314e5de"
      },
      "source": [
        "Finally, let's combine variables, lists, and loops in an example that adds numbers in a list."
      ]
    },
    {
      "cell_type": "code",
      "metadata": {
        "colab": {
          "base_uri": "https://localhost:8080/"
        },
        "id": "2b5e4cdd",
        "outputId": "d44e7644-2ee7-40da-eae1-063bc06e2b79"
      },
      "source": [
        "# Example 5: Combining variables, lists, and loops\n",
        "numbers = [10, 20, 30, 40, 50] # We create a list of numbers.\n",
        "total = 0 # We initialize a variable called 'total' to 0. This variable will store the sum of the numbers.\n",
        "for number in numbers: # This loop goes through each 'number' in the 'numbers' list.\n",
        "  total = total + number # In each turn, we add the current 'number' to the 'total'.\n",
        "print(total) # After the loop finishes, this line prints the final value of 'total', which is the sum of all numbers in the list."
      ],
      "execution_count": 5,
      "outputs": [
        {
          "output_type": "stream",
          "name": "stdout",
          "text": [
            "150\n"
          ]
        }
      ]
    },
    {
      "cell_type": "markdown",
      "metadata": {
        "id": "b687a1d9"
      },
      "source": [
        "Here are some examples for **Conditional Statements (if, elif, else)**:"
      ]
    },
    {
      "cell_type": "code",
      "metadata": {
        "colab": {
          "base_uri": "https://localhost:8080/"
        },
        "id": "ac7ce83e",
        "outputId": "3a22cdde-e322-40c0-b55c-5b22753cd9d2"
      },
      "source": [
        "# Example: Checking if a number is positive, negative, or zero\n",
        "number = 10\n",
        "\n",
        "if number > 0:\n",
        "  # This code runs if the number is greater than 0\n",
        "  print(\"The number is positive.\")\n",
        "elif number < 0:\n",
        "  # This code runs if the number is less than 0 (and not greater than 0)\n",
        "  print(\"The number is negative.\")\n",
        "else:\n",
        "  # This code runs if the number is not positive and not negative (meaning it's zero)\n",
        "  print(\"The number is zero.\")"
      ],
      "execution_count": 6,
      "outputs": [
        {
          "output_type": "stream",
          "name": "stdout",
          "text": [
            "The number is positive.\n"
          ]
        }
      ]
    },
    {
      "cell_type": "markdown",
      "metadata": {
        "id": "072ccedd"
      },
      "source": [
        "Here is an example of **Functions**:"
      ]
    },
    {
      "cell_type": "code",
      "metadata": {
        "colab": {
          "base_uri": "https://localhost:8080/"
        },
        "id": "17286afb",
        "outputId": "9194d3f1-4b7e-40b0-84d0-d3b31d0c8288"
      },
      "source": [
        "# Example: Defining and calling a function\n",
        "def greet(name):\n",
        "  # This is a function definition. It's named 'greet' and takes one input, 'name'.\n",
        "  # The code inside the function runs when you 'call' the function.\n",
        "  print(f\"Hello, {name}!\") # This line prints a greeting using the 'name' that was given to the function.\n",
        "\n",
        "# Now, we call the function with different names:\n",
        "greet(\"Alice\")\n",
        "greet(\"Bob\")"
      ],
      "execution_count": 7,
      "outputs": [
        {
          "output_type": "stream",
          "name": "stdout",
          "text": [
            "Hello, Alice!\n",
            "Hello, Bob!\n"
          ]
        }
      ]
    },
    {
      "cell_type": "markdown",
      "metadata": {
        "id": "ab1562f2"
      },
      "source": [
        "Here is an example of **Input and Output**:"
      ]
    },
    {
      "cell_type": "code",
      "metadata": {
        "id": "54488d0b"
      },
      "source": [
        "# Example: Getting input from the user and printing output\n",
        "name = input(\"Enter your name: \") # This line prompts the user to enter their name and stores it in the 'name' variable.\n",
        "print(f\"Hello, {name}! Nice to meet you.\") # This line prints a message that includes the name the user entered."
      ],
      "execution_count": null,
      "outputs": []
    },
    {
      "cell_type": "markdown",
      "metadata": {
        "id": "a0608f7a"
      },
      "source": [
        "Here is an example of **Basic Data Types**:"
      ]
    },
    {
      "cell_type": "code",
      "metadata": {
        "id": "0a9aa41f"
      },
      "source": [
        "# Example: Demonstrating different basic data types\n",
        "integer_number = 10      # This is an integer (whole number)\n",
        "float_number = 3.14      # This is a float (number with decimal places)\n",
        "text_string = \"Hello\"    # This is a string (text)\n",
        "is_coding_fun = True     # This is a boolean (True or False)\n",
        "\n",
        "print(type(integer_number)) # Prints the type of the variable (should be <class 'int'>)\n",
        "print(type(float_number))   # Prints the type of the variable (should be <class 'float'>)\n",
        "print(type(text_string))    # Prints the type of the variable (should be <class 'str'>)\n",
        "print(type(is_coding_fun))  # Prints the type of the variable (should be <class 'bool'>)"
      ],
      "execution_count": null,
      "outputs": []
    },
    {
      "cell_type": "markdown",
      "metadata": {
        "id": "b00e7181"
      },
      "source": [
        "Here is an example of **Simple String Manipulation**:"
      ]
    },
    {
      "cell_type": "code",
      "metadata": {
        "id": "daffcf07"
      },
      "source": [
        "# Example: Working with strings\n",
        "greeting = \"Hello\"\n",
        "name = \"World\"\n",
        "\n",
        "# Combining strings (concatenation)\n",
        "full_greeting = greeting + \" \" + name + \"!\"\n",
        "print(full_greeting) # Prints: Hello World!\n",
        "\n",
        "# Repeating a string\n",
        "repeated_greeting = greeting * 3\n",
        "print(repeated_greeting) # Prints: HelloHelloHello\n",
        "\n",
        "# Getting the length of a string\n",
        "print(len(greeting)) # Prints: 5\n",
        "\n",
        "# Changing case\n",
        "print(greeting.upper()) # Prints: HELLO\n",
        "print(name.lower())   # Prints: world"
      ],
      "execution_count": null,
      "outputs": []
    }
  ]
}